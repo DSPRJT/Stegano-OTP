{
 "cells": [
  {
   "cell_type": "code",
   "execution_count": 3,
   "id": "2aff6610-0cf0-4673-9bba-6f1aced441b4",
   "metadata": {},
   "outputs": [
    {
     "name": "stdout",
     "output_type": "stream",
     "text": [
      "Dylanstore menyediakan layanan topup, pulsa dan lain lainnya, dylanstore sudah terpercaaya dari 2021\n"
     ]
    }
   ],
   "source": [
    "from stegano import lsb\n",
    "\n",
    "# Replace \"Lorem...\" with the actual data you want to hide\n",
    "data_to_hide = \"Dylanstore menyediakan layanan topup, pulsa dan lain lainnya, dylanstore sudah terpercaaya dari 2021\"\n",
    "\n",
    "# Hide the data in the image\n",
    "secret = lsb.hide(\"Dylanstore.png\", data_to_hide)\n",
    "\n",
    "# Save the steganographic image\n",
    "secret.save(\"Dylanstore2.png\")\n",
    "\n",
    "#untuk menapilkan pesan yang tersembunyi\n",
    "print(lsb.reveal(\"Dylanstore2.png\"))"
   ]
  },
  {
   "cell_type": "code",
   "execution_count": null,
   "id": "d5c7b23e-efab-44cf-93fa-d656b0a6758b",
   "metadata": {},
   "outputs": [],
   "source": []
  }
 ],
 "metadata": {
  "kernelspec": {
   "display_name": "Python 3 (ipykernel)",
   "language": "python",
   "name": "python3"
  },
  "language_info": {
   "codemirror_mode": {
    "name": "ipython",
    "version": 3
   },
   "file_extension": ".py",
   "mimetype": "text/x-python",
   "name": "python",
   "nbconvert_exporter": "python",
   "pygments_lexer": "ipython3",
   "version": "3.11.5"
  }
 },
 "nbformat": 4,
 "nbformat_minor": 5
}
