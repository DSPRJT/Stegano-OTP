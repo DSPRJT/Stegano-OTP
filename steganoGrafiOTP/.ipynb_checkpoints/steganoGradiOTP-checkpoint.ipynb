{
 "cells": [
  {
   "cell_type": "code",
   "execution_count": 32,
   "id": "ddac649f-a5da-4953-b99c-5962215c72f0",
   "metadata": {},
   "outputs": [
    {
     "name": "stdout",
     "output_type": "stream",
     "text": [
      "Revealed data: Dylanstore menyediakan layanan topup, pulsa dan lain lainnya, dylanstore sudah terpercaaya dari 2021\n"
     ]
    }
   ],
   "source": [
    "from stegano import lsb\n",
    "\n",
    "# Fungsi untuk mengenkripsi teks menggunakan One-Time Pad (OTP)\n",
    "def otp_encrypt(plain_text, key):\n",
    "    encrypted_text = ''\n",
    "    for i in range(len(plain_text)):\n",
    "        char = plain_text[i]\n",
    "        key_char = key[i % len(key)]\n",
    "        encrypted_text += chr(ord(char) ^ ord(key_char))  # XOR antara karakter plainteks dan kunci\n",
    "    return encrypted_text\n",
    "\n",
    "# Fungsi untuk mengonversi teks ke dalam bentuk biner\n",
    "def text_to_binary(text):\n",
    "    binary_data = ''.join(format(ord(char), '08b') for char in text)  # Mengonversi setiap karakter ke dalam format biner\n",
    "    return binary_data\n",
    "\n",
    "# Fungsi untuk menghasilkan OTP key dari plainteks dan kunci\n",
    "def generate_otp_key(plain_text, key):\n",
    "    otp_key = ''\n",
    "    for i in range(len(plain_text)):\n",
    "        otp_key += chr(ord(plain_text[i]) ^ ord(key[i % len(key)]))  # XOR antara karakter plainteks dan kunci\n",
    "    return otp_key\n",
    "\n",
    "# Plainteks dan kunci untuk OTP\n",
    "plain_text_otp = \"DYLAN\"\n",
    "otp_key_otp = \"STORE\"\n",
    "\n",
    "# Hasilkan OTP key\n",
    "otp_key_generated = generate_otp_key(plain_text_otp, otp_key_otp)\n",
    "\n",
    "# Gantikan \"YOUR_DATA_TO_HIDE\" dengan data yang ingin Anda sembunyikan\n",
    "data_to_hide = \"Dylanstore menyediakan layanan topup, pulsa dan lain lainnya, dylanstore sudah terpercaaya dari 2021\"\n",
    "\n",
    "# Enkripsi data dengan OTP\n",
    "encrypted_data = otp_encrypt(data_to_hide, otp_key_generated)\n",
    "\n",
    "# Konversi teks terenkripsi ke dalam bentuk biner\n",
    "binary_data_to_hide = text_to_binary(encrypted_data)\n",
    "\n",
    "# Sembunyikan data terenkripsi dalam gambar\n",
    "secret = lsb.hide(\"Dylanstore.png\", binary_data_to_hide)\n",
    "\n",
    "# Simpan gambar steganografi\n",
    "secret.save(\"Dylanstore3.png\")\n",
    "\n",
    "# Coba untuk mengungkapkan data tersembunyi\n",
    "try:\n",
    "    revealed_binary_data = lsb.reveal(\"Dylanstore3.png\")\n",
    "    \n",
    "    # Konversi biner kembali ke teks terenkripsi\n",
    "    decrypted_data = ''.join([chr(int(revealed_binary_data[i:i+8], 2)) for i in range(0, len(revealed_binary_data), 8)])\n",
    "\n",
    "    # Dekripsi teks menggunakan One-Time Pad\n",
    "    decrypted_text = otp_encrypt(decrypted_data, otp_key_generated)\n",
    "\n",
    "    print(\"Revealed data:\", decrypted_text)\n",
    "except IndexError as e:\n",
    "    print(\"Error:\", e)\n"
   ]
  },
  {
   "cell_type": "code",
   "execution_count": null,
   "id": "79ca1f53-4364-4f18-84f1-d8de8a9891d1",
   "metadata": {},
   "outputs": [],
   "source": []
  }
 ],
 "metadata": {
  "kernelspec": {
   "display_name": "Python 3 (ipykernel)",
   "language": "python",
   "name": "python3"
  },
  "language_info": {
   "codemirror_mode": {
    "name": "ipython",
    "version": 3
   },
   "file_extension": ".py",
   "mimetype": "text/x-python",
   "name": "python",
   "nbconvert_exporter": "python",
   "pygments_lexer": "ipython3",
   "version": "3.11.5"
  }
 },
 "nbformat": 4,
 "nbformat_minor": 5
}
